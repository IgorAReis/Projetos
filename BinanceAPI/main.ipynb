{
 "cells": [
  {
   "cell_type": "code",
   "execution_count": null,
   "id": "ac57a8b4",
   "metadata": {},
   "outputs": [],
   "source": [
    "!pip install python-binance"
   ]
  },
  {
   "cell_type": "code",
   "execution_count": null,
   "id": "e2a2cc03",
   "metadata": {},
   "outputs": [],
   "source": [
    "from binance.client import Client\n",
    "from secrets_chave import api_key, secret_key\n",
    "\n",
    "client = Client(api_key, secret_key)\n",
    "\n",
    "#Pegar os dados da sua conta\n",
    "conta = cliente.get_account()\n",
    "\n",
    "#Ver seus ativos atuais\n",
    "for ativo in conta[\"balances\"]:\n",
    "     if float(ativo[\"free\"]) > 0:\n",
    "         print(ativo)\n",
    "        \n",
    "#criar uma ordem dentro da Binance\n",
    "from binance.enums import *\n",
    "order = cliente.create_order(\n",
    "     symbol='BUSDBRL',\n",
    "     side=SIDE_BUY,\n",
    "     type=ORDER_TYPE_MARKET,\n",
    "     quantity=5.0,\n",
    "     )\n",
    "\n",
    "print(order)\n",
    "        \n",
    "conta = cliente.get_account()\n",
    "\n",
    "#Ver seus ativos atuais\n",
    "for ativo in conta[\"balances\"]:\n",
    "     if float(ativo[\"free\"]) > 0:\n",
    "         print(ativo)        \n",
    "\n",
    "\n"
   ]
  },
  {
   "cell_type": "code",
   "execution_count": null,
   "id": "1c597d79",
   "metadata": {},
   "outputs": [],
   "source": [
    "info = client.get_symbol_info('BTCBUSD')\n",
    "print(info)"
   ]
  },
  {
   "cell_type": "code",
   "execution_count": null,
   "id": "e9e34cd4",
   "metadata": {},
   "outputs": [],
   "source": [
    "        \n",
    "#visualizar as ordens executadas\n",
    "\n",
    "orders = cliente.get_all_orders(symbol='BUSDBRL', limit=10)\n",
    "print(orders)\n",
    "trades = cliente.get_my_trades(symbol='BUSDBRL')\n",
    "print(trades)"
   ]
  },
  {
   "cell_type": "code",
   "execution_count": null,
   "id": "871778c4",
   "metadata": {},
   "outputs": [],
   "source": []
  }
 ],
 "metadata": {
  "kernelspec": {
   "display_name": "Python 3 (ipykernel)",
   "language": "python",
   "name": "python3"
  },
  "language_info": {
   "codemirror_mode": {
    "name": "ipython",
    "version": 3
   },
   "file_extension": ".py",
   "mimetype": "text/x-python",
   "name": "python",
   "nbconvert_exporter": "python",
   "pygments_lexer": "ipython3",
   "version": "3.10.9"
  }
 },
 "nbformat": 4,
 "nbformat_minor": 5
}
