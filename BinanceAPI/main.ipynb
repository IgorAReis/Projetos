{
 "cells": [
  {
   "cell_type": "code",
   "execution_count": 1,
   "id": "ac57a8b4",
   "metadata": {},
   "outputs": [
    {
     "name": "stdout",
     "output_type": "stream",
     "text": [
      "Requirement already satisfied: python-binance in c:\\users\\guinho\\anaconda3\\lib\\site-packages (1.0.16)\n",
      "Requirement already satisfied: dateparser in c:\\users\\guinho\\anaconda3\\lib\\site-packages (from python-binance) (1.1.4)\n",
      "Requirement already satisfied: ujson in c:\\users\\guinho\\anaconda3\\lib\\site-packages (from python-binance) (5.1.0)\n",
      "Requirement already satisfied: six in c:\\users\\guinho\\anaconda3\\lib\\site-packages (from python-binance) (1.16.0)\n",
      "Requirement already satisfied: websockets in c:\\users\\guinho\\anaconda3\\lib\\site-packages (from python-binance) (10.4)\n",
      "Requirement already satisfied: requests in c:\\users\\guinho\\anaconda3\\lib\\site-packages (from python-binance) (2.27.1)\n",
      "Requirement already satisfied: aiohttp in c:\\users\\guinho\\anaconda3\\lib\\site-packages (from python-binance) (3.8.1)\n",
      "Requirement already satisfied: frozenlist>=1.1.1 in c:\\users\\guinho\\anaconda3\\lib\\site-packages (from aiohttp->python-binance) (1.2.0)\n",
      "Requirement already satisfied: async-timeout<5.0,>=4.0.0a3 in c:\\users\\guinho\\anaconda3\\lib\\site-packages (from aiohttp->python-binance) (4.0.1)\n",
      "Requirement already satisfied: yarl<2.0,>=1.0 in c:\\users\\guinho\\anaconda3\\lib\\site-packages (from aiohttp->python-binance) (1.6.3)\n",
      "Requirement already satisfied: attrs>=17.3.0 in c:\\users\\guinho\\anaconda3\\lib\\site-packages (from aiohttp->python-binance) (21.4.0)\n",
      "Requirement already satisfied: multidict<7.0,>=4.5 in c:\\users\\guinho\\anaconda3\\lib\\site-packages (from aiohttp->python-binance) (5.1.0)\n",
      "Requirement already satisfied: charset-normalizer<3.0,>=2.0 in c:\\users\\guinho\\anaconda3\\lib\\site-packages (from aiohttp->python-binance) (2.0.4)\n",
      "Requirement already satisfied: aiosignal>=1.1.2 in c:\\users\\guinho\\anaconda3\\lib\\site-packages (from aiohttp->python-binance) (1.2.0)\n",
      "Requirement already satisfied: typing-extensions>=3.6.5 in c:\\users\\guinho\\anaconda3\\lib\\site-packages (from async-timeout<5.0,>=4.0.0a3->aiohttp->python-binance) (4.1.1)\n",
      "Requirement already satisfied: idna>=2.0 in c:\\users\\guinho\\anaconda3\\lib\\site-packages (from yarl<2.0,>=1.0->aiohttp->python-binance) (3.3)\n",
      "Requirement already satisfied: python-dateutil in c:\\users\\guinho\\anaconda3\\lib\\site-packages (from dateparser->python-binance) (2.8.2)\n",
      "Requirement already satisfied: regex!=2019.02.19,!=2021.8.27 in c:\\users\\guinho\\anaconda3\\lib\\site-packages (from dateparser->python-binance) (2022.3.15)\n",
      "Requirement already satisfied: tzlocal in c:\\users\\guinho\\anaconda3\\lib\\site-packages (from dateparser->python-binance) (4.2)\n",
      "Requirement already satisfied: pytz in c:\\users\\guinho\\anaconda3\\lib\\site-packages (from dateparser->python-binance) (2021.3)\n",
      "Requirement already satisfied: certifi>=2017.4.17 in c:\\users\\guinho\\anaconda3\\lib\\site-packages (from requests->python-binance) (2021.10.8)\n",
      "Requirement already satisfied: urllib3<1.27,>=1.21.1 in c:\\users\\guinho\\anaconda3\\lib\\site-packages (from requests->python-binance) (1.26.9)\n",
      "Requirement already satisfied: tzdata in c:\\users\\guinho\\anaconda3\\lib\\site-packages (from tzlocal->dateparser->python-binance) (2022.7)\n",
      "Requirement already satisfied: pytz-deprecation-shim in c:\\users\\guinho\\anaconda3\\lib\\site-packages (from tzlocal->dateparser->python-binance) (0.1.0.post0)\n"
     ]
    }
   ],
   "source": [
    "!pip install python-binance"
   ]
  },
  {
   "cell_type": "code",
   "execution_count": null,
   "id": "e2a2cc03",
   "metadata": {},
   "outputs": [],
   "source": [
    "from binance.client import Client\n",
    "from secrets_chave import api_key, secret_key\n",
    "\n",
    "client = Client(api_key, secret_key)\n",
    "\n",
    "#Pegar os dados da sua conta\n",
    "conta = cliente.get_account()\n",
    "\n",
    "#Ver seus ativos atuais\n",
    "for ativo in conta[\"balances\"]:\n",
    "     if float(ativo[\"free\"]) > 0:\n",
    "         print(ativo)\n",
    "        \n",
    "#criar uma ordem dentro da Binance\n",
    "from binance.enums import *\n",
    "order = cliente.create_order(\n",
    "     symbol='BUSDBRL',\n",
    "     side=SIDE_BUY,\n",
    "     type=ORDER_TYPE_MARKET,\n",
    "     quantity=5.0,\n",
    "     )\n",
    "\n",
    "print(order)\n",
    "        \n",
    "conta = cliente.get_account()\n",
    "\n",
    "#Ver seus ativos atuais\n",
    "for ativo in conta[\"balances\"]:\n",
    "     if float(ativo[\"free\"]) > 0:\n",
    "         print(ativo)        \n",
    "\n",
    "\n"
   ]
  },
  {
   "cell_type": "code",
   "execution_count": null,
   "id": "1c597d79",
   "metadata": {},
   "outputs": [],
   "source": [
    "info = client.get_symbol_info('BTCBUSD')\n",
    "print(info)"
   ]
  },
  {
   "cell_type": "code",
   "execution_count": 35,
   "id": "e9e34cd4",
   "metadata": {},
   "outputs": [
    {
     "name": "stdout",
     "output_type": "stream",
     "text": [
      "[{'symbol': 'BUSDBRL', 'orderId': 39848895, 'orderListId': -1, 'clientOrderId': 'web_6565b449337542eebd57dbe54b1cabe0', 'price': '0.00000000', 'origQty': '186.70000000', 'executedQty': '186.70000000', 'cummulativeQuoteQty': '984.65580000', 'status': 'FILLED', 'timeInForce': 'GTC', 'type': 'MARKET', 'side': 'BUY', 'stopPrice': '0.00000000', 'icebergQty': '0.00000000', 'time': 1656652246403, 'updateTime': 1656652246403, 'isWorking': True, 'origQuoteOrderQty': '985.00000000'}, {'symbol': 'BUSDBRL', 'orderId': 51075666, 'orderListId': -1, 'clientOrderId': 'pqo0SUmzsCfABLHf619cjb', 'price': '0.00000000', 'origQty': '5.00000000', 'executedQty': '5.00000000', 'cummulativeQuoteQty': '26.35500000', 'status': 'FILLED', 'timeInForce': 'GTC', 'type': 'MARKET', 'side': 'SELL', 'stopPrice': '0.00000000', 'icebergQty': '0.00000000', 'time': 1670399304165, 'updateTime': 1670399304165, 'isWorking': True, 'origQuoteOrderQty': '0.00000000'}, {'symbol': 'BUSDBRL', 'orderId': 51075708, 'orderListId': -1, 'clientOrderId': '2IWvA6tcCSrghrXGfoI9LG', 'price': '0.00000000', 'origQty': '5.00000000', 'executedQty': '5.00000000', 'cummulativeQuoteQty': '26.36500000', 'status': 'FILLED', 'timeInForce': 'GTC', 'type': 'MARKET', 'side': 'BUY', 'stopPrice': '0.00000000', 'icebergQty': '0.00000000', 'time': 1670399439176, 'updateTime': 1670399439176, 'isWorking': True, 'origQuoteOrderQty': '0.00000000'}]\n"
     ]
    }
   ],
   "source": [
    "        \n",
    "#visualizar as ordens executadas\n",
    "\n",
    "orders = cliente.get_all_orders(symbol='BUSDBRL', limit=10)\n",
    "print(orders)\n",
    "trades = cliente.get_my_trades(symbol='BUSDBRL')\n",
    "print(trades)"
   ]
  },
  {
   "cell_type": "code",
   "execution_count": null,
   "id": "871778c4",
   "metadata": {},
   "outputs": [],
   "source": []
  }
 ],
 "metadata": {
  "kernelspec": {
   "display_name": "Python 3 (ipykernel)",
   "language": "python",
   "name": "python3"
  },
  "language_info": {
   "codemirror_mode": {
    "name": "ipython",
    "version": 3
   },
   "file_extension": ".py",
   "mimetype": "text/x-python",
   "name": "python",
   "nbconvert_exporter": "python",
   "pygments_lexer": "ipython3",
   "version": "3.9.12"
  }
 },
 "nbformat": 4,
 "nbformat_minor": 5
}
